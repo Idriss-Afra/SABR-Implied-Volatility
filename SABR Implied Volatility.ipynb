{
 "cells": [
  {
   "cell_type": "markdown",
   "metadata": {
    "id": "s_yOpSqreSVG"
   },
   "source": [
    "# SABR Implied Volatility\n",
    "------------------\n",
    "> **Idriss Afra**\n",
    "\n",
    "This project aims to construct the Implied Volatility surface under the SABR model."
   ]
  },
  {
   "cell_type": "markdown",
   "metadata": {
    "id": "1_vgnMbLgN3w"
   },
   "source": [
    "## SABR Volatility model\n",
    "\n",
    "SABR is a dynamic model in which both the forward and the volatility are represented by stochastic state variables whose time evolution is given by the following system of stochastic differential equations :\n",
    "\n",
    "$$\n",
    "\\begin{align}\n",
    "dF_t & = \\sigma_t F_t^\\beta dW_t^1\\\\\n",
    "\\frac{d\\sigma_t}{\\sigma_t} & = \\alpha dW_t^2\\\\\n",
    "d<W^1,W^2>_t & = \\rho dt\n",
    "\\end{align}\n",
    "$$\n",
    "\n",
    "Where :\n",
    "* $F_0$ is the forward rate at $t = 0$\n",
    "* $\\sigma_0$ is the initial value of the volatility\n",
    "* $\\alpha$ is the volatility of the volatility\n",
    "* $\\beta$ is the forward exponent\n",
    "* $\\rho$ is the correlation between the forward and the volatility\n",
    "* $W^1$ and $W^2$ are two standard brownien motions\n",
    "\n",
    "<br>Under the SABR model, the prices of European call options are given by the Black's formula. In fact, for a current forward rate $F$, strike $K$, and implied volatility $\\sigma_{SABR}(K, F)$, the price of an European call option with maturity T is :\n",
    "\n",
    "$$\n",
    "\\begin{align}\n",
    "C_{BLACK}(F_0, K, \\sigma_{SABR}(K,F_0), T) & = e^{-rT} \\left[ F_0 × N(d_1) - K × N(d_2) \\right] \\\\\n",
    "d_{1} & = \\frac{ln\\left(\\frac{F_0}{K}\\right) + \\frac{1}{2} \\sigma_{SABR}(K,F_0)^2 T}{\\sigma_{SABR}(K,F_0) \\sqrt{T}} \\\\\n",
    "d_{2} & = d_{1} - \\sigma_{SABR}(K,F_0) \\sqrt{T}\n",
    "\\end{align}\n",
    "$$\n",
    "\n",
    "<br> Where $\\sigma_{SABR}(K,F_0)$ follows the Hagan's formula (*2002 SABR Log-Normal Volatility expansion*) :\n",
    "\n",
    "$$\n",
    "\\begin{align}\n",
    "\\sigma_{SABR}(K,F_0) & = \\frac{\\sigma_0 × \\left[ 1 + \\left( \\frac{(1-\\beta)^2}{24} × \\frac{\\sigma_0^2}{(F_0.K)^{1-\\beta}} + \\frac{1}{4} × \\frac{\\rho .\\beta .\\alpha .\\sigma_0}{(F_0.K)^{(1-\\beta)/2}} +\\frac{\\alpha^2 (2-3\\rho^2)}{24} \\right) × T \\right]}{(F_0.K)^{(1-\\beta)/2} × \\left[1 + \\frac{(1-\\beta)^2}{24} ln^2\\left(\\frac{F_0}{K}\\right) +  \\frac{(1-\\beta)^4}{1920} ln^4\\left(\\frac{F_0}{K}\\right)\\right]} × \\frac{z}{\\chi{(z)}} \\\\\n",
    "z & = \\frac{\\alpha}{\\sigma_0} × (F_0.K)^{(1-\\beta)/2} × ln\\left(\\frac{F_0}{K}\\right) \\\\\n",
    "\\chi{(z)} & = ln\\left(\\frac{\\sqrt{1-2\\rho z + z^2} + z - \\rho}{1-\\rho}\\right)\n",
    "\\end{align}\n",
    "$$\n",
    "<br>This model can be used to fit the implied volatility surface."
   ]
  },
  {
   "cell_type": "code",
   "execution_count": 1,
   "metadata": {
    "id": "b-7EasSTeVm1"
   },
   "outputs": [],
   "source": [
    "import numpy as np\n",
    "\n",
    "def sabr_vol(T, K, F0, sigma0, alpha, rho, beta=0.5) :\n",
    "  \"\"\"\n",
    "  Hagan's 2002 SABR log-normal vol expansion.\n",
    "  The strike K can be a scalar or an array, the function will return an array\n",
    "  of log-normal vols.\n",
    "  \"\"\"\n",
    "  eps = 1e-04\n",
    "  fk_beta = (F0 * K)**(1 - beta)\n",
    "  log_fk = np.log(F0/K)\n",
    "\n",
    "  a = ((1 - beta)**2 / 24) * (sigma0**2 / fk_beta)\n",
    "  b = 0.25 * rho * beta * alpha * sigma0 / fk_beta**0.5\n",
    "  c = (2 - 3 * rho**2) * alpha**2 / 24\n",
    "  d = fk_beta**0.5\n",
    "  e = (1 - beta)**2 * log_fk**2 / 24\n",
    "  f = (1 - beta)**4 * log_fk**4 / 1920\n",
    "  z = alpha * fk_beta**0.5 * log_fk / sigma0\n",
    "\n",
    "  # For close points to ATM, z and x(z) become close to zero and should be removed for the Hagan's formula\n",
    "  num = sigma0 * (1 + (a + b + c) * T)\n",
    "  num = np.where(abs(z) > eps, num * z, num)\n",
    "  den = d * (1 + e + f)\n",
    "  den = np.where(abs(z) > eps, den * x(rho, z), den)\n",
    "\n",
    "  return num / den\n",
    "\n",
    "def x(rho, z) :\n",
    "  \"\"\"\n",
    "  Return function x used in Hagan's 2002 SABR log-normal vol expansion.\n",
    "  \"\"\"\n",
    "  num = (1 - 2 * rho * z + z**2)**0.5 + z - rho\n",
    "  den = 1 - rho\n",
    "  return  np.log (num / den)\n"
   ]
  },
  {
   "cell_type": "markdown",
   "metadata": {
    "id": "WQbPUyQ7YK0J"
   },
   "source": [
    "##SABR Calibration\n",
    "\n",
    "In order to use the SABR model, we need to first calibrate its parameters : $\\sigma_0$, $\\alpha$, $\\beta$, and $\\rho$.\n",
    "\n",
    "These parameters impact the SABR volatility curves as follows :\n",
    "* $\\sigma_0$ controls the initial level of the curve\n",
    "* $\\alpha$ controls the convexity of the curve\n",
    "* $\\rho$ and $\\beta$ control the curvature of the curve\n",
    "\n",
    "<br>$\\beta$ can be estimated by linear regression on a time series of logs of ATM market volatilities and logs of forward rates.\n",
    "\n",
    "In fact :\n",
    "$$\n",
    "\\sigma_{SABR}^{ATM}  = \\sigma_{SABR}(K = F_0, F_0) ≈ \\frac{\\sigma_0}{F_0^{1-\\beta}}\n",
    "$$\n",
    "And so :\n",
    "$$\n",
    "ln(\\sigma_{SABR}^{ATM})  ≈ ln(\\sigma_0) - (1-\\beta) × ln(F_0)\n",
    "$$\n",
    "<br> In practice, $\\beta$ is set manually. In our case : $0.5$.\n",
    "\n",
    "As for the remaining parameters, we will need to go through a minimization process to replicate the market implied volatilities.\n",
    "\n",
    "For each market tenor $T$ :\n",
    "$$\n",
    "(\\sigma_0^T, \\alpha^T, \\rho^T) = ArgMin_{(\\sigma_0, \\alpha, \\rho)} ∑_{K_i ∈ Market}\\left(\\sigma_{SABR}(K,F_0, \\sigma_0, \\alpha, \\rho) - \\sigma_{K_i, T}^{Market}\\right)^2\n",
    "$$\n",
    "\n"
   ]
  },
  {
   "cell_type": "code",
   "execution_count": 2,
   "metadata": {
    "id": "MNZG4ABBM4F5"
   },
   "outputs": [],
   "source": [
    "from scipy.optimize import minimize\n",
    "\n",
    "def sabr_calibration_1(T, F0, strikes, vol_market, beta = 0.5) :\n",
    "  \"\"\"\n",
    "  1st calibration method.\n",
    "  SABR model calibration : Sigma0, Alpha, and Rho.\n",
    "  \"\"\"\n",
    "  parameters0 = np.array([vol_market[len(vol_market) // 2], 0.2, -0.2]) # vol_market[len(vol_market) // 2] is the closest point vol to ATM, 0.2 and -0.2 were chosen arbitrary\n",
    "  res = minimize(obj_func_1, x0=parameters0, args=(T, F0, strikes, vol_market, beta), bounds=((0.01, None), (0.01, None), (-0.99, 0.99)))\n",
    "  return res.x\n",
    "\n",
    "def obj_func_1(parameters, T, F0, strikes, vol_market, beta) :\n",
    "  \"\"\"\n",
    "  The Sum Squared Error function : Used as the objective function in the SABR Calibration.\n",
    "  \"\"\"\n",
    "  sabr_volatilities = sabr_vol(T, strikes, F0, parameters[0], parameters[1], parameters[2], beta)\n",
    "  sse = 0\n",
    "  for i in range(len(strikes)) :\n",
    "    sse += (sabr_volatilities[i] - vol_market[i])**2\n",
    "  return sse\n"
   ]
  },
  {
   "cell_type": "code",
   "execution_count": 3,
   "metadata": {
    "colab": {
     "base_uri": "https://localhost:8080/",
     "height": 489
    },
    "executionInfo": {
     "elapsed": 7,
     "status": "ok",
     "timestamp": 1698267868442,
     "user": {
      "displayName": "Idriss Afra",
      "userId": "18414075979135278390"
     },
     "user_tz": -120
    },
    "id": "txutek-29CO5",
    "outputId": "444817bc-f7da-40df-fdb5-c5975d5182cd"
   },
   "outputs": [
    {
     "name": "stdout",
     "output_type": "stream",
     "text": [
      "Calibrated parameters :  {'Sigma0': 0.06619432925209454, 'Alpha': 0.8202140728403683, 'Rho': 0.23292913561727263}\n"
     ]
    },
    {
     "data": {
      "image/png": "[encoded data removed]",
      "text/plain": [
       "<Figure size 432x288 with 1 Axes>"
      ]
     },
     "metadata": {
      "needs_background": "light"
     },
     "output_type": "display_data"
    }
   ],
   "source": [
    "#Test SABR Calibration : 1st Method.\n",
    "\n",
    "import math\n",
    "import matplotlib.pyplot as plt\n",
    "\n",
    "T = 1\n",
    "S0 = 3.5 / 100\n",
    "r = 2 / 100\n",
    "discount = math.exp(-r * T)\n",
    "F0 = S0 / discount\n",
    "\n",
    "strikes  = np.array([2.0, 2.5, 3.0, 3.5, 4.0, 4.5, 5.0]) / 100\n",
    "vol_market = np.array([45.6, 41.6, 37.9, 36.6, 37.8, 39.2, 40.0]) / 100\n",
    "\n",
    "params = sabr_calibration_1(T, F0, strikes, vol_market)\n",
    "print(\"Calibrated parameters : \", {\"Sigma0\" : params[0], \"Alpha\" : params[1], \"Rho\" : params[2]})\n",
    "\n",
    "plt.ylabel(\"Implied Volatilities\")\n",
    "plt.xlabel(\"Strikes\")\n",
    "plt.title(\"Market vs SABR\")\n",
    "plt.scatter(strikes, vol_market, color=\"red\", label=\"Market Vol\")\n",
    "vol_sabr = sabr_vol(T, strikes, F0, params[0], params[1], params[2])\n",
    "plt.plot(strikes, vol_sabr, label=\"SABR Vol\")\n",
    "plt.legend(loc=\"lower left\")\n",
    "plt.show()"
   ]
  },
  {
   "cell_type": "markdown",
   "metadata": {
    "id": "ScAqJxOSbkH4"
   },
   "source": [
    "A more sophisticated method is to calibrate $\\alpha$ and $\\rho$ by implying $\\sigma_0$ from the ATM market volatility.\n",
    "\n",
    "In fact :\n",
    "\n",
    "$$\n",
    "\\sigma_{SABR}^{ATM}(K = F_0, F_0) = \\frac{\\sigma_0 × \\left[1 + \\left(\\frac{(1-\\beta)^2}{24} × \\frac{\\sigma_0^2}{F_0^{2-2\\beta}} + \\frac{1}{4} × \\frac{\\rho .\\beta .\\alpha .\\sigma_0}{F_0^{2-2\\beta}} +\\frac{\\alpha^2 (2-3\\rho^2)}{24}\\right) × T\\right]}{F_0^{1-\\beta}}\n",
    "$$\n",
    "\n",
    "And so :\n",
    "\n",
    "$$\n",
    "\\frac{(1-\\beta)^2.T}{24.F_0^{2-2\\beta}} × \\sigma_0^3 + \\frac{1}{4} × \\frac{\\rho .\\beta .\\alpha.T}{F_0^{2-2\\beta}} × \\sigma_0^2 + \\left[1 + \\frac{\\alpha^2 (2-3\\rho^2)T}{24}\\right] × \\sigma_0 - \\sigma^{ATM} F_0^{1-\\beta} = 0\n",
    "$$\n",
    "\n",
    "Therefore : $\\sigma_0(\\alpha, \\rho) $ is a real positive root of the above equation. In practice, we take the the smallest real positive root.\n",
    "\n",
    "For this calibration method, the minimization process changes to :\n",
    "\n",
    "$$\n",
    "(\\sigma_0^T, \\alpha^T, \\rho^T) = ArgMin_{\\left(\\alpha, \\rho\\right)} ∑_{K_i ∈ Market}\\left(\\sigma_{SABR}(K,F_0, \\sigma_0(\\alpha, \\rho), \\alpha, \\rho) - \\sigma_{K_i, T}^{Market}\\right)^2\n",
    "$$\n",
    "\n",
    "Since $\\sigma_0$ calibration depends strongly on the ATM volatility quote, this second method fit the ATM market volatilities better."
   ]
  },
  {
   "cell_type": "code",
   "execution_count": 4,
   "metadata": {
    "id": "IedmtinfMKxj"
   },
   "outputs": [],
   "source": [
    "from scipy.optimize import minimize\n",
    "\n",
    "def sabr_calibration_2(T, F0, strikes, vol_market, beta = 0.5) :\n",
    "  \"\"\"\n",
    "  2nd calibration method.\n",
    "  SABR model calibration : Sigma0, Alpha, and Rho.\n",
    "  \"\"\"\n",
    "  parameters0 = np.array([0.2, -0.2]) # Alpha, Rho : Chosen arbitrary\n",
    "  res = minimize(obj_func_2, x0=parameters0, args=(T, F0, strikes, vol_market, beta), bounds=((0.01, None), (-0.99, 0.99)))\n",
    "  return [sigma0_implied(res.x, T, F0, strikes, vol_market)] + list(res.x)\n",
    "\n",
    "def obj_func_2(parameters, T, F0, strikes, vol_market, beta = 0.5) :\n",
    "  \"\"\"\n",
    "  The Sum Squared Error function : Used as the objective function in the SABR Calibration.\n",
    "  \"\"\"\n",
    "  sigma0 = sigma0_implied(parameters, T, F0, strikes, vol_market, beta)\n",
    "  sabr_volatilities = sabr_vol(T, strikes, F0, sigma0, parameters[0], parameters[1], beta)\n",
    "  sse = 0\n",
    "  for i in range(len(strikes)) :\n",
    "    sse += (sabr_volatilities[i] - vol_market[i])**2\n",
    "  return sse\n",
    "\n",
    "def sigma0_implied(parameters, T, F0, strikes, vol_market, beta = 0.5) :\n",
    "  \"\"\"\n",
    "  This function computes the smallest real positive root of the above cubic equation.\n",
    "  \"\"\"\n",
    "  moneyness = strikes / F0\n",
    "  moneyness -= 1\n",
    "  # Search for the closest point to ATM\n",
    "  atm_index = np.where(moneyness == min(abs(moneyness)))[0][0] if min(abs(moneyness)) in moneyness else np.where(moneyness == -min(abs(moneyness)))[0][0]\n",
    "  atm_vol = vol_market[atm_index]\n",
    "\n",
    "  f0_beta = F0**(2*(1 - beta))\n",
    "  alpha = parameters[0]\n",
    "  rho = parameters[1]\n",
    "  a = ((1-beta)**2 * T) / (24 * f0_beta)\n",
    "  b = 0.25 * rho * beta * alpha * T / f0_beta**0.5\n",
    "  c = 1 + alpha**2 * T * (2 - 3 * rho**2) / 24\n",
    "  d = - atm_vol * f0_beta**0.5\n",
    "\n",
    "  sigma0_roots = []\n",
    "  for s0 in np.roots([a, b, c, d]) :\n",
    "    if s0.imag == 0 and s0 > 0 :\n",
    "      sigma0_roots += [s0.real]\n",
    "\n",
    "  return min(sigma0_roots) if len(sigma0_roots) > 0 else sys.exit(\"The algorithm failed to converge. Please review the input data.\")"
   ]
  },
  {
   "cell_type": "code",
   "execution_count": 5,
   "metadata": {
    "colab": {
     "base_uri": "https://localhost:8080/",
     "height": 489
    },
    "executionInfo": {
     "elapsed": 352,
     "status": "ok",
     "timestamp": 1698267868790,
     "user": {
      "displayName": "Idriss Afra",
      "userId": "18414075979135278390"
     },
     "user_tz": -120
    },
    "id": "LBjcIdaCTAs3",
    "outputId": "6989300f-3ab4-4a26-d926-9a5dc747beac"
   },
   "outputs": [
    {
     "name": "stdout",
     "output_type": "stream",
     "text": [
      "Calibrated parameters :  {'Sigma0': 0.06408171488206026, 'Alpha': 0.8738250023510165, 'Rho': 0.20214657234612063}\n"
     ]
    },
    {
     "data": {
      "image/png": "[encoded data removed]",
      "text/plain": [
       "<Figure size 432x288 with 1 Axes>"
      ]
     },
     "metadata": {
      "needs_background": "light"
     },
     "output_type": "display_data"
    }
   ],
   "source": [
    "#Test SABR Calibration : 2nd Method.\n",
    "\n",
    "import math\n",
    "import matplotlib.pyplot as plt\n",
    "\n",
    "T = 1\n",
    "S0 = 3.5 / 100\n",
    "r = 0\n",
    "discount = math.exp(-r * T)\n",
    "F0 = S0 / discount\n",
    "\n",
    "strikes  = np.array([2.0, 2.5, 3.0, 3.5, 4.0, 4.5, 5.0]) / 100\n",
    "vol_market = np.array([45.6, 41.6, 37.9, 36.6, 37.8, 39.2, 40.0]) / 100\n",
    "\n",
    "params = sabr_calibration_2(T, F0, strikes, vol_market)\n",
    "print(\"Calibrated parameters : \", {\"Sigma0\" : params[0], \"Alpha\" : params[1], \"Rho\" : params[2]})\n",
    "\n",
    "plt.ylabel(\"Implied Volatilities\")\n",
    "plt.xlabel(\"Strikes\")\n",
    "plt.title(\"Market vs SABR\")\n",
    "plt.scatter(strikes, vol_market, color=\"red\", label=\"Market Vol\")\n",
    "vol_sabr = sabr_vol(T, strikes, F0, params[0], params[1], params[2])\n",
    "plt.plot(strikes, vol_sabr, label=\"SABR Vol\")\n",
    "plt.legend(loc=\"lower left\")\n",
    "plt.show()"
   ]
  },
  {
   "cell_type": "markdown",
   "metadata": {
    "id": "HSlpShl92inw"
   },
   "source": [
    "##Application : Equity Options Market\n",
    "\n",
    "The Equity listed options are quoted in prices and not in volatilities. Therefore, market volatilities need to be implied before applying the SABR fitting method.\n",
    "\n",
    "To do so, we use the Newton-Raphson algorithm to find the root $\\sigma_{Imp}(K_{market}, T_{market})$ of the following equation :\n",
    "\n",
    "$$\n",
    "BS(F_0, K, \\sigma_{Imp}(K_{market},T_{market}), T) - MarketPrice(K_{market}, T_{market}) = 0\n",
    "$$\n",
    "\n"
   ]
  },
  {
   "cell_type": "code",
   "execution_count": 6,
   "metadata": {
    "id": "O32ZgOYAYETt"
   },
   "outputs": [],
   "source": [
    "from scipy.stats import norm\n",
    "\n",
    "def black_scholes(flavor, K, T, S, r, vol, q=0) :\n",
    "  \"\"\"\n",
    "  The Black-Scholes price.\n",
    "  \"\"\"\n",
    "  v2T = vol**2 * T\n",
    "  d1 = (np.log(S/K) + (r - q) * T + v2T / 2) / v2T**0.5\n",
    "  d2 = d1 - v2T**0.5\n",
    "  phi = 1 if flavor.upper() == \"CALL\" else  -1\n",
    "  return phi * (S * math.exp(-q * T) * norm.cdf(phi * d1) - K * math.exp(-r * T) * norm.cdf(phi * d2))\n",
    "\n",
    "def vega_bs(K, T, S, r, vol, q=0) :\n",
    "  \"\"\"\n",
    "  The Black-Scholes Vega greek : The derivative of the option value with respect to the volatility of the underlying asset.\n",
    "  \"\"\"\n",
    "  v2T = vol**2 * T\n",
    "  d2 = (math.log(S/K) + (r - q) * T - v2T / 2) / v2T**0.5\n",
    "  return K * math.exp(-r * T) * norm.pdf(d2) * T**0.5"
   ]
  },
  {
   "cell_type": "code",
   "execution_count": 7,
   "metadata": {
    "id": "Mlao96x2gtrc"
   },
   "outputs": [],
   "source": [
    "import sys\n",
    "\n",
    "def newton_raphson(market_price, init_vol, flavor, K, T, S, r, q=0):\n",
    "  \"\"\"\n",
    "  The Newton-Raphson algorithm : Implied volatilities from market prices\n",
    "  \"\"\"\n",
    "  eps = 1e-07\n",
    "  vol = init_vol\n",
    "  func = black_scholes(flavor, K, T, S, r, vol, q) - market_price\n",
    "  func_deriv = vega_bs(K, T, S, r, vol, q)\n",
    "  error = sys.exit(\"The algorithm failed to converge. Please review the input data.\") if func_deriv < 0.0001 else \"No error.\"\n",
    "  next_vol = vol - func / func_deriv\n",
    "  error = sys.exit(\"The algorithm failed to converge. Please review the input data.\") if next_vol < 0.0001 else \"No error.\"\n",
    "  nb_iteration = 1\n",
    "  while abs(next_vol - vol) > eps :\n",
    "    vol = next_vol\n",
    "    func = black_scholes(flavor, K, T, S, r, vol, q) - market_price\n",
    "    func_deriv = vega_bs(K, T, S, r, vol, q)\n",
    "    error = sys.exit(\"The algorithm failed to converge. Please review the input data.\") if func_deriv < 0.0001 else \"No error.\"\n",
    "    next_vol = vol - func / func_deriv\n",
    "    error = sys.exit(\"The algorithm failed to converge. Please review the input data.\") if next_vol < 0.0001 else \"No error.\"\n",
    "    nb_iteration += 1\n",
    "    error = sys.exit(\"The algorithm failed to converge. Please review the input data.\") if nb_iteration > 300 else \"No error.\"\n",
    "\n",
    "  return next_vol"
   ]
  },
  {
   "cell_type": "code",
   "execution_count": 8,
   "metadata": {
    "colab": {
     "base_uri": "https://localhost:8080/"
    },
    "executionInfo": {
     "elapsed": 10,
     "status": "ok",
     "timestamp": 1698267868791,
     "user": {
      "displayName": "Idriss Afra",
      "userId": "18414075979135278390"
     },
     "user_tz": -120
    },
    "id": "1QXPv7QBusDi",
    "outputId": "1766fbb3-efc4-4e9b-adfd-248111d0fb2f"
   },
   "outputs": [
    {
     "name": "stdout",
     "output_type": "stream",
     "text": [
      "Error between Market price and BS(Implied Volatility) for the strike 98.51 :  6.74E-15\n",
      "Error between Market price and BS(Implied Volatility) for the strike 99.51 :  6.32E-14\n",
      "Error between Market price and BS(Implied Volatility) for the strike 100.51 :  4.11E-15\n",
      "Error between Market price and BS(Implied Volatility) for the strike 101.51 :  3.41E-15\n",
      "Error between Market price and BS(Implied Volatility) for the strike 102.51 :  6.11E-15\n",
      "Error between Market price and BS(Implied Volatility) for the strike 103.51 :  2.43E-13\n",
      "Error between Market price and BS(Implied Volatility) for the strike 104.51 :  1.71E-15\n"
     ]
    }
   ],
   "source": [
    "# Test the Newton-Raphon algorithm\n",
    "\n",
    "from decimal import Decimal\n",
    "\n",
    "T = 1\n",
    "S0 = 100\n",
    "r = 0.015\n",
    "discount = math.exp(-r * T)\n",
    "F0 = S0 / discount\n",
    "market_prices = np.array([0.1, 0.12, 0.14, 0.16, 0.13, 0.11, 0.08])\n",
    "flavors = np.array([\"Put\", \"Put\", \"Put\", \"Put\", \"Call\", \"Call\", \"Call\"]) #The Fourth Option is the ATM\n",
    "strikes = np.array([F0 - 3, F0 - 2, F0 - 1,   F0, F0 + 1, F0 + 2, F0 + 3])\n",
    "\n",
    "implied_vols = []\n",
    "for i in range(len(market_prices)) :\n",
    "  implied_vol = newton_raphson(market_prices[i], 0.1, flavors[i], strikes[i], T, S0, r)\n",
    "  implied_vols += [implied_vol]\n",
    "  bs_price = black_scholes(flavors[i], strikes[i], T, S0, r, implied_vol)\n",
    "  print(\"Error between Market price and BS(Implied Volatility) for the strike \" + str(round(strikes[i], 2)) + \" : \",'%.2E' % Decimal(abs(market_prices[i] - bs_price)))\n"
   ]
  },
  {
   "cell_type": "markdown",
   "metadata": {
    "id": "hMuxkCfa6lL3"
   },
   "source": [
    "Let's now take a close look at options on AAPL (Apple Inc. Stock). Let's consider AAPL 3W and 1M European options :"
   ]
  },
  {
   "cell_type": "code",
   "execution_count": 9,
   "metadata": {
    "colab": {
     "base_uri": "https://localhost:8080/",
     "height": 489
    },
    "executionInfo": {
     "elapsed": 654,
     "status": "ok",
     "timestamp": 1698267869437,
     "user": {
      "displayName": "Idriss Afra",
      "userId": "18414075979135278390"
     },
     "user_tz": -120
    },
    "id": "ZNzLSXhFFkwV",
    "outputId": "18f21859-cd08-48b1-9a68-07bf59ce5fe7"
   },
   "outputs": [
    {
     "name": "stdout",
     "output_type": "stream",
     "text": [
      "Calibrated parameters :  {'Sigma0': 2.6630368305753325, 'Alpha': 2.4142520695649656, 'Rho': -0.5413598339681385}\n"
     ]
    },
    {
     "data": {
      "image/png": "[encoded data removed]",
      "text/plain": [
       "<Figure size 432x288 with 1 Axes>"
      ]
     },
     "metadata": {
      "needs_background": "light"
     },
     "output_type": "display_data"
    }
   ],
   "source": [
    "from datetime import date\n",
    "\n",
    "now_date = date(2023, 5, 8)\n",
    "# Spot price\n",
    "S0 = 173.5\n",
    "# ZC rate\n",
    "r = 5.17 / 100\n",
    "\n",
    "# ******  First Tenor Data ************************\n",
    "tenor1 = date(2023, 5, 26)\n",
    "# Dividend yield\n",
    "d1 = 2.25 / 100\n",
    "strikes1 = np.array([160, 165, 170, 175, 180])\n",
    "prices1 = np.array([0.4, 0.84, 1.82, 2.49, 0.77]) # OTM listed calls and puts prices\n",
    "flavors1 = np.array([\"Put\"] * 3 + [\"Call\"] * 2)\n",
    "T1 = (tenor1 - now_date).days / 365\n",
    "discount = math.exp(-r * T1)\n",
    "# Fwd price\n",
    "F0 = S0 * math.exp(-d1 * T1) / discount\n",
    "# *************************************************\n",
    "\n",
    "# Implied Volatilities using the Newton-Raphson Algorithm\n",
    "implied_vols1 = []\n",
    "for i in range(len(strikes1)):\n",
    "    implied_vols1 += [newton_raphson(prices1[i], 0.2, flavors1[i], strikes1[i], T1, S0, r, d1)]\n",
    "\n",
    "# SABR calibration (1st method)\n",
    "sabr_params1 = sabr_calibration_1(T1, F0, strikes1, implied_vols1)\n",
    "print(\"Calibrated parameters : \", {\"Sigma0\" : sabr_params1[0], \"Alpha\" : sabr_params1[1], \"Rho\" : sabr_params1[2]})\n",
    "vol_sabr1 = sabr_vol(T1, strikes1, F0, sabr_params1[0], sabr_params1[1], sabr_params1[2])\n",
    "\n",
    "# Volatility Skews : Market vs SABR\n",
    "plt.ylabel(\"Implied Volatilities\")\n",
    "plt.xlabel(\"Moneyness\")\n",
    "plt.title(\"Market vs SABR - 3W\")\n",
    "\n",
    "plt.scatter(strikes1 / F0, implied_vols1, color=\"red\", label=\"Market Vol\")\n",
    "\n",
    "x_axis = np.linspace(F0 - 15, F0 + 15, 29)\n",
    "vol_sabr_smooth1 = sabr_vol(T1, x_axis, F0, sabr_params1[0], sabr_params1[1], sabr_params1[2])\n",
    "plt.plot(x_axis / F0, vol_sabr_smooth1, label=\"SABR Vol\")\n",
    "plt.legend(loc=\"lower left\")\n",
    "plt.show()"
   ]
  },
  {
   "cell_type": "code",
   "execution_count": 10,
   "metadata": {
    "colab": {
     "base_uri": "https://localhost:8080/",
     "height": 489
    },
    "executionInfo": {
     "elapsed": 859,
     "status": "ok",
     "timestamp": 1698267870277,
     "user": {
      "displayName": "Idriss Afra",
      "userId": "18414075979135278390"
     },
     "user_tz": -120
    },
    "id": "SVJEa4iWHMG0",
    "outputId": "3a73acf5-9c6a-4930-b4b4-6e02e94b59c7"
   },
   "outputs": [
    {
     "name": "stdout",
     "output_type": "stream",
     "text": [
      "Calibrated parameters :  {'Sigma0': 2.6693316299906624, 'Alpha': 1.8946821764455142, 'Rho': -0.6730123766885806}\n"
     ]
    },
    {
     "data": {
      "image/png": "[encoded data removed]",
      "text/plain": [
       "<Figure size 432x288 with 1 Axes>"
      ]
     },
     "metadata": {
      "needs_background": "light"
     },
     "output_type": "display_data"
    }
   ],
   "source": [
    "from datetime import date\n",
    "\n",
    "# ******  Second Tenor Data ***********************\n",
    "tenor2 = date(2023, 6, 2)\n",
    "# Dividend Yield\n",
    "d2 = 1.62 / 100\n",
    "strikes2 = np.array([160, 165, 170, 175, 180])\n",
    "prices2 = np.array([0.63, 1.2, 2.3, 3.08, 1.15]) # OTM listed calls and puts prices\n",
    "flavors2 = np.array([\"Put\"] * 3 + [\"Call\"] * 2)\n",
    "T2 = (tenor2 - now_date).days / 365\n",
    "discount = math.exp(-r * T2)\n",
    "# Fwd price\n",
    "F0 = S0 * math.exp(-d2 * T2) / discount\n",
    "# *************************************************\n",
    "\n",
    "# Implied Volatilities using the Newton-Raphson Algorithm\n",
    "implied_vols2 = []\n",
    "for i in range(len(strikes2)):\n",
    "  implied_vols2 += [newton_raphson(prices2[i], 0.2, flavors2[i], strikes2[i], T2, S0, r, d2)]\n",
    "\n",
    "# SABR calibration (1st method)\n",
    "sabr_params2 = sabr_calibration_1(T2, F0, strikes2, implied_vols2)\n",
    "print(\"Calibrated parameters : \", {\"Sigma0\" : sabr_params2[0], \"Alpha\" : sabr_params2[1], \"Rho\" : sabr_params2[2]})\n",
    "vol_sabr2 = sabr_vol(T2, strikes2, F0, sabr_params2[0], sabr_params2[1], sabr_params2[2])\n",
    "\n",
    "# Volatility Skews : Market vs SABR\n",
    "plt.ylabel(\"Implied Volatilities\")\n",
    "plt.xlabel(\"Moneyness\")\n",
    "plt.title(\"Market vs SABR - 1M\")\n",
    "\n",
    "plt.scatter(strikes2 / F0, implied_vols2, color=\"red\", label=\"Market Vol\")\n",
    "\n",
    "x_axis = np.linspace(F0 - 15, F0 + 15, 29)\n",
    "vol_sabr_smooth2 = sabr_vol(T2, x_axis, F0, sabr_params2[0], sabr_params2[1], sabr_params2[2])\n",
    "plt.plot(x_axis / F0, vol_sabr_smooth2, label=\"SABR Vol\")\n",
    "plt.legend(loc=\"lower left\")\n",
    "plt.show()"
   ]
  },
  {
   "cell_type": "markdown",
   "metadata": {
    "id": "uEDEGtFI8-Z8"
   },
   "source": [
    "In order to implcite volatilities for non-quoted maturities, we can interpolate SABR parameters and construct smiles using these latter :"
   ]
  },
  {
   "cell_type": "code",
   "execution_count": 11,
   "metadata": {
    "id": "hjFiGWP8Nigk"
   },
   "outputs": [],
   "source": [
    "from scipy.interpolate import interp1d\n",
    "\n",
    "maturities = [T1, T2]\n",
    "sigma0 = [sabr_params1[0], sabr_params2[0]]\n",
    "alpha = [sabr_params1[1], sabr_params2[1]]\n",
    "rho = [sabr_params1[2], sabr_params2[2]]\n",
    "\n",
    "# Linear Interpolation of the SABR parameters\n",
    "sigma0_interp = interp1d(maturities, sigma0, kind='linear', fill_value=\"extrapolate\")\n",
    "alpha_interp = interp1d(maturities, alpha, kind='linear', fill_value=\"extrapolate\")\n",
    "rho_interp = interp1d(maturities, rho, kind='linear', fill_value=\"extrapolate\")\n",
    "\n",
    "# Let's choose a middle maturity between T1 and T2 and interpolate linearly the SABR parameters\n",
    "T_NonQuoted = (T1 + T2) / 2\n",
    "sabr_params_NonQuoted = [sigma0_interp(T_NonQuoted), alpha_interp(T_NonQuoted), rho_interp(T_NonQuoted)]"
   ]
  },
  {
   "cell_type": "code",
   "execution_count": 12,
   "metadata": {
    "id": "A8m6To0dNnbe"
   },
   "outputs": [],
   "source": [
    "# SABR Volatility Skews : T1, T_NonQuoted, T2\n",
    "moneyness = np.linspace(0.9, 1.05, 16)\n",
    "maturities = np.array([T1, T_NonQuoted, T2])\n",
    "forwards = S0 * np.array([math.exp((r - d1) * T1), math.exp((r - (d1 + d2) / 2 ) * T_NonQuoted), math.exp((r - d2) * T2)]) # The dividend yield up to T_NonQuoted is approached by (d1 + d2) / 2\n",
    "\n",
    "vol_sabr1 = sabr_vol(T1, forwards[0] * moneyness, forwards[0], sabr_params1[0], sabr_params1[1], sabr_params1[2])\n",
    "vol_sabr = sabr_vol(T_NonQuoted, forwards[1] * moneyness, forwards[1], sabr_params_NonQuoted[0], sabr_params_NonQuoted[1], sabr_params_NonQuoted[2])\n",
    "vol_sabr2 = sabr_vol(T2, forwards[2] * moneyness, forwards[2], sabr_params2[0], sabr_params2[1], sabr_params2[2])\n"
   ]
  },
  {
   "cell_type": "code",
   "execution_count": 13,
   "metadata": {
    "colab": {
     "base_uri": "https://localhost:8080/",
     "height": 472
    },
    "executionInfo": {
     "elapsed": 34,
     "status": "ok",
     "timestamp": 1698267870279,
     "user": {
      "displayName": "Idriss Afra",
      "userId": "18414075979135278390"
     },
     "user_tz": -120
    },
    "id": "T3SLBDtiduDv",
    "outputId": "ac619c49-32d9-4af0-ec4b-0f7761ebd8e0"
   },
   "outputs": [
    {
     "data": {
      "image/png": "[encoded data removed]",
      "text/plain": [
       "<Figure size 432x288 with 1 Axes>"
      ]
     },
     "metadata": {
      "needs_background": "light"
     },
     "output_type": "display_data"
    }
   ],
   "source": [
    "# Volatility Skews : Market vs SABR\n",
    "plt.ylabel(\"V2T\")\n",
    "plt.xlabel(\"Moneyness\")\n",
    "plt.title(\"Market vs SABR\")\n",
    "\n",
    "plt.scatter(strikes1 / forwards[0], np.array(implied_vols1)**2 * T1, color=\"red\", label=\"Market V2T T1\")\n",
    "plt.scatter(strikes2 / forwards[2], np.array(implied_vols2)**2 * T2, color=\"blue\", label=\"Market V2T T2\")\n",
    "\n",
    "plt.plot(moneyness, vol_sabr1**2 * T1, label=\"SABR V2T T1\")\n",
    "plt.plot(moneyness, vol_sabr**2 * T_NonQuoted, label=\"SABR V2T on T1 < T < T2\")\n",
    "plt.plot(moneyness, vol_sabr2**2 * T2, label=\"SABR V2T T2\")\n",
    "\n",
    "plt.legend(loc=\"upper right\")\n",
    "plt.show()"
   ]
  }
 ],
 "metadata": {
  "colab": {
   "authorship_tag": "ABX9TyO/w3Hj/5nDCYsDD3V3Kkws",
   "provenance": []
  },
  "kernelspec": {
   "display_name": "Python 3 (ipykernel)",
   "language": "python",
   "name": "python3"
  },
  "language_info": {
   "codemirror_mode": {
    "name": "ipython",
    "version": 3
   },
   "file_extension": ".py",
   "mimetype": "text/x-python",
   "name": "python",
   "nbconvert_exporter": "python",
   "pygments_lexer": "ipython3",
   "version": "3.9.12"
  }
 },
 "nbformat": 4,
 "nbformat_minor": 1
}
